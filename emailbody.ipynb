{
 "cells": [
  {
   "cell_type": "markdown",
   "metadata": {},
   "source": [
    "# Reading mail body "
   ]
  },
  {
   "cell_type": "markdown",
   "metadata": {},
   "source": [
    "Importing packages ..."
   ]
  },
  {
   "cell_type": "code",
   "execution_count": 50,
   "metadata": {},
   "outputs": [],
   "source": [
    "import pandas as pd\n",
    "from bs4 import BeautifulSoup as BS\n",
    "import re"
   ]
  },
  {
   "cell_type": "markdown",
   "metadata": {},
   "source": [
    "Reading data ..."
   ]
  },
  {
   "cell_type": "code",
   "execution_count": 51,
   "metadata": {},
   "outputs": [],
   "source": [
    "mails=pd.read_csv('email_message_excerpt.csv', encoding = \"ISO-8859-1\")"
   ]
  },
  {
   "cell_type": "code",
   "execution_count": 52,
   "metadata": {
    "scrolled": true
   },
   "outputs": [
    {
     "data": {
      "text/plain": [
       "Id                                    object\n",
       "ParentId                              object\n",
       "ActivityId                            object\n",
       "CreatedById                           object\n",
       "CreatedDate                           object\n",
       "LastModifiedDate                      object\n",
       "LastModifiedById                      object\n",
       "SystemModstamp                        object\n",
       "TextBody                              object\n",
       "HtmlBody                              object\n",
       "Headers                               object\n",
       "Subject                               object\n",
       "Anon                                  object\n",
       "from@test.com                         object\n",
       "bcc@test.com                          object\n",
       "CcAddress                             object\n",
       "BccAddress                            object\n",
       "Incoming                               int64\n",
       "HasAttachment                          int64\n",
       "Status                                 int64\n",
       "MessageDate                           object\n",
       "IsDeleted                              int64\n",
       "MessageSize                            int64\n",
       "ReplyToEmailMessageId                 object\n",
       "IsPrivateDraft                         int64\n",
       "IsExternallyVisible                    int64\n",
       "MessageIdentifier                    float64\n",
       "ThreadIdentifier                     float64\n",
       "IsClientManaged                        int64\n",
       "RelatedToId                           object\n",
       "IsTracked                              int64\n",
       "FirstOpenedDate                       object\n",
       "LastOpenedDate                        object\n",
       "IsBounced                              int64\n",
       "EmailTemplateId                      float64\n",
       "Task_Created_for_Email__c              int64\n",
       "Positive_Feedback__c                   int64\n",
       "Response_Time_minutes__c             float64\n",
       "Account__c                            object\n",
       "Contact__c                            object\n",
       "True_Response__c                       int64\n",
       "Message_Sentiment__c                  object\n",
       "Business_Minutes_Response_Time__c    float64\n",
       "Public_Use_Approval__c               float64\n",
       "dtype: object"
      ]
     },
     "execution_count": 52,
     "metadata": {},
     "output_type": "execute_result"
    }
   ],
   "source": [
    "mails.dtypes"
   ]
  },
  {
   "cell_type": "markdown",
   "metadata": {},
   "source": [
    "Let's only keep those columns which are of our interest"
   ]
  },
  {
   "cell_type": "code",
   "execution_count": 53,
   "metadata": {},
   "outputs": [],
   "source": [
    "body=mails[['Id','TextBody','HtmlBody']]"
   ]
  },
  {
   "cell_type": "code",
   "execution_count": 63,
   "metadata": {},
   "outputs": [],
   "source": [
    "sal=[\"from:\",\"date:\",\"to:\",\"subject:\",\"sent:\",\"\\xa0\",\"\\r\",\n",
    "    \"\\u200b\",\"*x* external email *x*\",\"url\",\n",
    "                              \"sent from my iphone\",\"please respond above this line.\",\"prize update from:\",'(concierge)',\n",
    "    \"(sr. concierge)\"]"
   ]
  },
  {
   "cell_type": "code",
   "execution_count": 55,
   "metadata": {},
   "outputs": [],
   "source": [
    "salutation = [\"hi\",\n",
    "                                     \"hi,\",\n",
    "                                     \"dear\",\n",
    "                                     \"hey\",\n",
    "                                     \"hello\",\n",
    "                                     \"good\",'please respond above this line']"
   ]
  },
  {
   "cell_type": "code",
   "execution_count": 56,
   "metadata": {},
   "outputs": [],
   "source": [
    "signature = [\"warm regards\",\n",
    "                              \"kind regards\",\n",
    "                              \"regards\",\n",
    "                              \"cheers\",\n",
    "                              \"many thanks\",\n",
    "                              \"sincerely\",\n",
    "                              \"best,\",\n",
    "                              \"talk soon\",\n",
    "                              \"cordially\",\n",
    "                              \"yours truly\",\n",
    "                              \"thanking You\",\n",
    "                          \"thanks,\",\"thank you,\",\"thank you!\"]"
   ]
  },
  {
   "cell_type": "markdown",
   "metadata": {},
   "source": [
    "### Reading body content from html body and writing it in HtmlSol column"
   ]
  },
  {
   "cell_type": "code",
   "execution_count": 65,
   "metadata": {
    "scrolled": false
   },
   "outputs": [
    {
     "name": "stderr",
     "output_type": "stream",
     "text": [
      "/home/shreyas/anaconda3/lib/python3.6/site-packages/ipykernel_launcher.py:58: SettingWithCopyWarning: \n",
      "A value is trying to be set on a copy of a slice from a DataFrame\n",
      "\n",
      "See the caveats in the documentation: http://pandas.pydata.org/pandas-docs/stable/indexing.html#indexing-view-versus-copy\n"
     ]
    }
   ],
   "source": [
    "for x in range(body.shape[0]):\n",
    "    #print('#########################################################################################')\n",
    "    trial=body['HtmlBody'][x]\n",
    "    if pd.isnull(body['HtmlBody'][x]):\n",
    "        t=sol='No mail'\n",
    "        continue\n",
    "    else:\n",
    "        soup = BS(trial,'html.parser')\n",
    "        for br in soup.find_all(\"br\"):\n",
    "            br.replace_with(\"\\n\")\n",
    "        if soup.find_all('body'):\n",
    "            try:\n",
    "                if 'xmlns' in str(soup.find('html')):\n",
    "                    t=soup.find('div').get_text()\n",
    "                elif soup.find('div') is not None:\n",
    "                    t=soup.find('div').find_all('div')[-1].get_text()\n",
    "                else:\n",
    "                    t=soup.find('body').get_text()\n",
    "            except IndexError:\n",
    "                t=soup.find('body').get_text()  \n",
    "            mean=[]\n",
    "            #t = t.replace('\\r', '')\n",
    "            t1=t.split('\\n')\n",
    "            flag=0\n",
    "            for j in range(len(t1)):\n",
    "                mean.append(t1[j])\n",
    "                for k in signature:\n",
    "                    if k in t1[j].lower():\n",
    "                        flag=1\n",
    "                        mean.remove(t1[j])\n",
    "                        break\n",
    "                if flag==1:\n",
    "                    break\n",
    "                if len(t1[j])>3:\n",
    "\n",
    "                    #mean.append(t1[j])\n",
    "                    for i in ( sal):\n",
    "                        if i in t1[j].lower():\n",
    "\n",
    "                            mean.remove(t1[j])\n",
    "                            break\n",
    "                else:\n",
    "                    mean.remove(t1[j])\n",
    "            if len(mean)>0:\n",
    "                if mean[0].split()[0].lower() in salutation:\n",
    "                    mean.remove(mean[0])\n",
    "            if (len(mean)>5):\n",
    "                sol=('\\n'.join((mean[:3])))\n",
    "            else:\n",
    "                sol=('\\n'.join((mean)))\n",
    "        else:\n",
    "            sol='No mail'\n",
    "#     print(sol)\n",
    "#     print('********')\n",
    "#     print(t)\n",
    "#     print(x)\n",
    "\n",
    "    body.loc[body.index[x], 'HtmlSol'] = sol\n",
    "\n",
    "\n",
    "    \n"
   ]
  },
  {
   "cell_type": "markdown",
   "metadata": {},
   "source": [
    "### Reading body content from text body and writing it in TextSol column"
   ]
  },
  {
   "cell_type": "code",
   "execution_count": 66,
   "metadata": {
    "scrolled": false
   },
   "outputs": [
    {
     "name": "stderr",
     "output_type": "stream",
     "text": [
      "/home/shreyas/anaconda3/lib/python3.6/site-packages/ipykernel_launcher.py:38: SettingWithCopyWarning: \n",
      "A value is trying to be set on a copy of a slice from a DataFrame\n",
      "\n",
      "See the caveats in the documentation: http://pandas.pydata.org/pandas-docs/stable/indexing.html#indexing-view-versus-copy\n"
     ]
    }
   ],
   "source": [
    " for x in range((body.shape[0])):\n",
    "    #print('##################################')\n",
    "    sol=''\n",
    "    trial=body['TextBody'][x]\n",
    "    t = trial.replace('\\r', '')\n",
    "    mean=[]\n",
    "    t1=t.split('\\n')\n",
    "    flag=0\n",
    "    for j in range(len(t1)):\n",
    "        mean.append(t1[j])\n",
    "        if re.match('\\d{2}/\\d{2}/\\d{4} \\d{1}:\\d{2} [A-Z]', t1[j]) or re.match('[A-Za-z]+ \\d{2}, \\d{4} \\d{2}:\\d{2} [A-Z]', t1[j]) or re.match('\\d{2}/\\d{2}/\\d{4} \\d{2}:\\d{2} [A-Z]', t1[j]) or re.match('[A-Za-z]+ \\d{2}, \\d{4} \\d{1}:\\d{2} [A-Z]', t1[j]):\n",
    "            mean.remove(t1[j])\n",
    "        for k in signature:\n",
    "            if k in t1[j].lower():\n",
    "                flag=1\n",
    "                mean.remove(t1[j])\n",
    "                break\n",
    "        if flag==1:\n",
    "            break\n",
    "        if len(t1[j])>3:\n",
    "\n",
    "            #mean.append(t1[j])\n",
    "            for i in ( sal):\n",
    "                if i in t1[j].lower():\n",
    "#                     print(t1[j])\n",
    "#                     print(i)\n",
    "                    mean.remove(t1[j])\n",
    "                    break\n",
    "        else:\n",
    "            mean.remove(t1[j])\n",
    "    if len(mean)>0:\n",
    "        if mean[0].split()[0].lower() in salutation:\n",
    "            mean.remove(mean[0])\n",
    "    if (len(mean)>5):\n",
    "        sol=('\\n'.join((mean[:3])))\n",
    "    else:\n",
    "        sol=('\\n'.join((mean)))\n",
    "    body.loc[body.index[x], 'TextSol'] = sol\n"
   ]
  },
  {
   "cell_type": "code",
   "execution_count": 71,
   "metadata": {},
   "outputs": [
    {
     "data": {
      "text/html": [
       "<div>\n",
       "<style scoped>\n",
       "    .dataframe tbody tr th:only-of-type {\n",
       "        vertical-align: middle;\n",
       "    }\n",
       "\n",
       "    .dataframe tbody tr th {\n",
       "        vertical-align: top;\n",
       "    }\n",
       "\n",
       "    .dataframe thead th {\n",
       "        text-align: right;\n",
       "    }\n",
       "</style>\n",
       "<table border=\"1\" class=\"dataframe\">\n",
       "  <thead>\n",
       "    <tr style=\"text-align: right;\">\n",
       "      <th></th>\n",
       "      <th>Id</th>\n",
       "      <th>TextBody</th>\n",
       "      <th>HtmlBody</th>\n",
       "      <th>HtmlSol</th>\n",
       "      <th>TextSol</th>\n",
       "    </tr>\n",
       "  </thead>\n",
       "  <tbody>\n",
       "    <tr>\n",
       "      <th>0</th>\n",
       "      <td>02s1Q00000UC1qdQAD</td>\n",
       "      <td>Prize update from: 0013600001hG1DQAA0\\r\\nPleas...</td>\n",
       "      <td>&lt;html&gt;\\r\\n    \\r\\n    &lt;head&gt;\\r\\n        &lt;meta ...</td>\n",
       "      <td>Just checking in here to make sure you don?t f...</td>\n",
       "      <td>Just checking in here to make sure you don?t f...</td>\n",
       "    </tr>\n",
       "    <tr>\n",
       "      <th>1</th>\n",
       "      <td>02s1Q00000UC1qeQAD</td>\n",
       "      <td>Prize update from: 0013600001ewt3wAAA\\r\\nPleas...</td>\n",
       "      <td>&lt;html&gt;\\r\\n    \\r\\n    &lt;head&gt;\\r\\n        &lt;meta ...</td>\n",
       "      <td>Since we've yet to hear from you regarding you...</td>\n",
       "      <td>Since we've yet to hear from you regarding you...</td>\n",
       "    </tr>\n",
       "    <tr>\n",
       "      <th>2</th>\n",
       "      <td>02s1Q00000UC1sWQAT</td>\n",
       "      <td>Hi\\n\\nSorry. November 17th is the day we picke...</td>\n",
       "      <td>&lt;html xmlns:v=\"urn:schemas-microsoft-com:vml\" ...</td>\n",
       "      <td>Sorry. November 17th is the day we picked.\\nAn...</td>\n",
       "      <td>Sorry. November 17th is the day we picked.\\nAn...</td>\n",
       "    </tr>\n",
       "    <tr>\n",
       "      <th>3</th>\n",
       "      <td>02s1Q00000UC1w2QAD</td>\n",
       "      <td>Hi Hannah, thanks for the suggestions, the Rho...</td>\n",
       "      <td>&lt;html xmlns:v=\"urn:schemas-microsoft-com:vml\" ...</td>\n",
       "      <td></td>\n",
       "      <td></td>\n",
       "    </tr>\n",
       "    <tr>\n",
       "      <th>4</th>\n",
       "      <td>02s1Q00000UC1x5QAD</td>\n",
       "      <td>This message was created automatically by the ...</td>\n",
       "      <td>NaN</td>\n",
       "      <td>NaN</td>\n",
       "      <td>This message was created automatically by the ...</td>\n",
       "    </tr>\n",
       "  </tbody>\n",
       "</table>\n",
       "</div>"
      ],
      "text/plain": [
       "                   Id                                           TextBody  \\\n",
       "0  02s1Q00000UC1qdQAD  Prize update from: 0013600001hG1DQAA0\\r\\nPleas...   \n",
       "1  02s1Q00000UC1qeQAD  Prize update from: 0013600001ewt3wAAA\\r\\nPleas...   \n",
       "2  02s1Q00000UC1sWQAT  Hi\\n\\nSorry. November 17th is the day we picke...   \n",
       "3  02s1Q00000UC1w2QAD  Hi Hannah, thanks for the suggestions, the Rho...   \n",
       "4  02s1Q00000UC1x5QAD  This message was created automatically by the ...   \n",
       "\n",
       "                                            HtmlBody  \\\n",
       "0  <html>\\r\\n    \\r\\n    <head>\\r\\n        <meta ...   \n",
       "1  <html>\\r\\n    \\r\\n    <head>\\r\\n        <meta ...   \n",
       "2  <html xmlns:v=\"urn:schemas-microsoft-com:vml\" ...   \n",
       "3  <html xmlns:v=\"urn:schemas-microsoft-com:vml\" ...   \n",
       "4                                                NaN   \n",
       "\n",
       "                                             HtmlSol  \\\n",
       "0  Just checking in here to make sure you don?t f...   \n",
       "1  Since we've yet to hear from you regarding you...   \n",
       "2  Sorry. November 17th is the day we picked.\\nAn...   \n",
       "3                                                      \n",
       "4                                                NaN   \n",
       "\n",
       "                                             TextSol  \n",
       "0  Just checking in here to make sure you don?t f...  \n",
       "1  Since we've yet to hear from you regarding you...  \n",
       "2  Sorry. November 17th is the day we picked.\\nAn...  \n",
       "3                                                     \n",
       "4  This message was created automatically by the ...  "
      ]
     },
     "execution_count": 71,
     "metadata": {},
     "output_type": "execute_result"
    }
   ],
   "source": [
    "body.head(5)"
   ]
  },
  {
   "cell_type": "markdown",
   "metadata": {},
   "source": [
    "### Writing the results dataframe into a csv file"
   ]
  },
  {
   "cell_type": "code",
   "execution_count": 69,
   "metadata": {},
   "outputs": [],
   "source": [
    "body.to_csv('Result.csv')"
   ]
  }
 ],
 "metadata": {
  "kernelspec": {
   "display_name": "Python 3",
   "language": "python",
   "name": "python3"
  },
  "language_info": {
   "codemirror_mode": {
    "name": "ipython",
    "version": 3
   },
   "file_extension": ".py",
   "mimetype": "text/x-python",
   "name": "python",
   "nbconvert_exporter": "python",
   "pygments_lexer": "ipython3",
   "version": "3.6.8"
  }
 },
 "nbformat": 4,
 "nbformat_minor": 2
}
